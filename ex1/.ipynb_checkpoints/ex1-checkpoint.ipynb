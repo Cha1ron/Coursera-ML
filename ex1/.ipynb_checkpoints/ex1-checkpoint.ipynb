{
 "cells": [
  {
   "cell_type": "markdown",
   "id": "1ae3f664-14c2-4625-b091-0ada1a68b6f2",
   "metadata": {},
   "source": [
    "## 单变量线性回归\n",
    "使用单变量线性回归预测快餐车的利润问题。文件ex1data1.txt为数据集，第一列是一个城市的人口，第二列是该城市快餐车的利润。"
   ]
  },
  {
   "cell_type": "markdown",
   "id": "47af455c-8fa1-4e75-ac2b-2a95667c1312",
   "metadata": {},
   "source": [
    "2.1 绘制数据，使用散点图可视化数据。"
   ]
  },
  {
   "cell_type": "code",
   "execution_count": 70,
   "id": "4a8099c4-5f02-44d9-ab6d-eac3ddf41db3",
   "metadata": {},
   "outputs": [],
   "source": [
    "import numpy as np\n",
    "import pandas as pd \n",
    "import matplotlib.pyplot as plt\n",
    "import torch "
   ]
  },
  {
   "cell_type": "code",
   "execution_count": 115,
   "id": "fe8a61c0-7e80-42df-a0e5-3b0e30ba9cb5",
   "metadata": {},
   "outputs": [
    {
     "data": {
      "text/html": [
       "<div>\n",
       "<style scoped>\n",
       "    .dataframe tbody tr th:only-of-type {\n",
       "        vertical-align: middle;\n",
       "    }\n",
       "\n",
       "    .dataframe tbody tr th {\n",
       "        vertical-align: top;\n",
       "    }\n",
       "\n",
       "    .dataframe thead th {\n",
       "        text-align: right;\n",
       "    }\n",
       "</style>\n",
       "<table border=\"1\" class=\"dataframe\">\n",
       "  <thead>\n",
       "    <tr style=\"text-align: right;\">\n",
       "      <th></th>\n",
       "      <th>population</th>\n",
       "      <th>profit</th>\n",
       "    </tr>\n",
       "  </thead>\n",
       "  <tbody>\n",
       "    <tr>\n",
       "      <th>0</th>\n",
       "      <td>6.1101</td>\n",
       "      <td>17.5920</td>\n",
       "    </tr>\n",
       "    <tr>\n",
       "      <th>1</th>\n",
       "      <td>5.5277</td>\n",
       "      <td>9.1302</td>\n",
       "    </tr>\n",
       "    <tr>\n",
       "      <th>2</th>\n",
       "      <td>8.5186</td>\n",
       "      <td>13.6620</td>\n",
       "    </tr>\n",
       "    <tr>\n",
       "      <th>3</th>\n",
       "      <td>7.0032</td>\n",
       "      <td>11.8540</td>\n",
       "    </tr>\n",
       "    <tr>\n",
       "      <th>4</th>\n",
       "      <td>5.8598</td>\n",
       "      <td>6.8233</td>\n",
       "    </tr>\n",
       "  </tbody>\n",
       "</table>\n",
       "</div>"
      ],
      "text/plain": [
       "   population   profit\n",
       "0      6.1101  17.5920\n",
       "1      5.5277   9.1302\n",
       "2      8.5186  13.6620\n",
       "3      7.0032  11.8540\n",
       "4      5.8598   6.8233"
      ]
     },
     "execution_count": 115,
     "metadata": {},
     "output_type": "execute_result"
    }
   ],
   "source": [
    "data = pd.read_csv('data/ex1data1.txt', names =['population', 'profit'])\n",
    "data.head()"
   ]
  },
  {
   "cell_type": "markdown",
   "id": "9c19019b-9f7c-4fe8-9e74-8886f35e55eb",
   "metadata": {},
   "source": [
    "使用Numpy读取文本文件数据：\n",
    "np.loadtxt('filename', delimiter ='\\t')\n",
    "一般用于数值型数据，如多维数组、矩阵，并且只需进行基本的数值计算和操作。\n",
    "使用Pandas读取文本文件数据\n",
    "pd.read_csv('filename', delimiter = '\\t')\n",
    "一般用于结构化数据，如表格数据，不同的列有不同的数据类型。Pandas提供了DataFrame数据结构能够轻松地处理这些数据，适合数据预处理。"
   ]
  },
  {
   "cell_type": "code",
   "execution_count": 116,
   "id": "3df51d73-b217-4ed9-99e5-d47bfc116fe5",
   "metadata": {},
   "outputs": [],
   "source": [
    "x = data.iloc[:, 0]\n",
    "y = data.iloc[:, 1]\n",
    "n = len(y)\n",
    "m = len(x)"
   ]
  },
  {
   "cell_type": "code",
   "execution_count": 102,
   "id": "49472cc2-700c-42f4-a3b2-56ea5cb798ef",
   "metadata": {},
   "outputs": [
    {
     "data": {
      "image/png": "[encoded data removed]",
      "text/plain": [
       "<Figure size 1200x800 with 1 Axes>"
      ]
     },
     "metadata": {},
     "output_type": "display_data"
    }
   ],
   "source": [
    "data.plot(kind = 'scatter', x='population', y = 'profit', figsize=(12, 8))\n",
    "plt.show()"
   ]
  },
  {
   "cell_type": "markdown",
   "id": "a39ddeef-261c-4ebf-82d7-e2e096c30e01",
   "metadata": {},
   "source": [
    "2.2 梯度下降\n",
    "接下来使用梯度下降法拟合线性回归中的参数$\\theta$到我们的数据集。\n",
    "假设函数的线性模型如下：\n",
    "$h_{\\theta}(x) = \\theta^Tx = \\theta_0 + \\theta_1x_1$\n",
    "批量梯度下降法：\n",
    "${\\theta_{j}}:={\\theta_{j}}-\\alpha \\frac{\\partial }{\\partial {\\theta_{j}}}J\\left(\\theta \\right)$\n",
    "注意：把每一个样本作为一行存储在X矩阵中，截距项$\\theta_0$额外在X上增加第一列设置为全1，这样就可以当作一个简单特征。"
   ]
  },
  {
   "cell_type": "code",
   "execution_count": 117,
   "id": "ed0c4e0b-e1d7-477c-8927-ec4af62fcaee",
   "metadata": {},
   "outputs": [
    {
     "data": {
      "text/html": [
       "<div>\n",
       "<style scoped>\n",
       "    .dataframe tbody tr th:only-of-type {\n",
       "        vertical-align: middle;\n",
       "    }\n",
       "\n",
       "    .dataframe tbody tr th {\n",
       "        vertical-align: top;\n",
       "    }\n",
       "\n",
       "    .dataframe thead th {\n",
       "        text-align: right;\n",
       "    }\n",
       "</style>\n",
       "<table border=\"1\" class=\"dataframe\">\n",
       "  <thead>\n",
       "    <tr style=\"text-align: right;\">\n",
       "      <th></th>\n",
       "      <th>ones</th>\n",
       "      <th>population</th>\n",
       "      <th>profit</th>\n",
       "    </tr>\n",
       "  </thead>\n",
       "  <tbody>\n",
       "    <tr>\n",
       "      <th>0</th>\n",
       "      <td>1</td>\n",
       "      <td>6.1101</td>\n",
       "      <td>17.5920</td>\n",
       "    </tr>\n",
       "    <tr>\n",
       "      <th>1</th>\n",
       "      <td>1</td>\n",
       "      <td>5.5277</td>\n",
       "      <td>9.1302</td>\n",
       "    </tr>\n",
       "    <tr>\n",
       "      <th>2</th>\n",
       "      <td>1</td>\n",
       "      <td>8.5186</td>\n",
       "      <td>13.6620</td>\n",
       "    </tr>\n",
       "    <tr>\n",
       "      <th>3</th>\n",
       "      <td>1</td>\n",
       "      <td>7.0032</td>\n",
       "      <td>11.8540</td>\n",
       "    </tr>\n",
       "    <tr>\n",
       "      <th>4</th>\n",
       "      <td>1</td>\n",
       "      <td>5.8598</td>\n",
       "      <td>6.8233</td>\n",
       "    </tr>\n",
       "  </tbody>\n",
       "</table>\n",
       "</div>"
      ],
      "text/plain": [
       "   ones  population   profit\n",
       "0     1      6.1101  17.5920\n",
       "1     1      5.5277   9.1302\n",
       "2     1      8.5186  13.6620\n",
       "3     1      7.0032  11.8540\n",
       "4     1      5.8598   6.8233"
      ]
     },
     "execution_count": 117,
     "metadata": {},
     "output_type": "execute_result"
    }
   ],
   "source": [
    "data.insert(0, 'ones', 1) # 在data中增加一列，其中0为列的索引，one为列名，1为值\n",
    "theta  = np.matrix(np.array([0, 0]))  #创建2个元素的列向量\n",
    "iterations = 1500\n",
    "learning_rate = 0.01\n",
    "data.head()"
   ]
  },
  {
   "cell_type": "markdown",
   "id": "b6f29762-6931-4449-9a28-958be06cdab1",
   "metadata": {},
   "source": [
    "torch.zeros(m, n)创建m$\\times$n的全0矩阵"
   ]
  },
  {
   "cell_type": "markdown",
   "id": "cf3da2ee-b6c2-49fc-b16e-6ba327271ced",
   "metadata": {},
   "source": [
    "2.3 计算代价函数\n",
    "实现一个函数计算$J(\\theta)$，完成后使用值为0的$\\theta$运行得到的代价函数应该为32.07"
   ]
  },
  {
   "cell_type": "code",
   "execution_count": 118,
   "id": "e2545c05-dccb-4422-8a1d-469bc89a47b0",
   "metadata": {},
   "outputs": [],
   "source": [
    "#定义损失函数\n",
    "def loss_function(X, y, theta):\n",
    "    inner = np.power(((X * theta.T) - y), 2)\n",
    "    return np.sum(inner) / (2 * len(X))"
   ]
  },
  {
   "cell_type": "markdown",
   "id": "8780a0c7-32cb-4230-9ad9-2e0538e37897",
   "metadata": {},
   "source": [
    "numpy库求幂和求和分别为np.power(), np.sum()"
   ]
  },
  {
   "cell_type": "code",
   "execution_count": 110,
   "id": "b8887e74-c6d3-415d-879d-4c6aa2ced03a",
   "metadata": {},
   "outputs": [
    {
     "data": {
      "text/html": [
       "<div>\n",
       "<style scoped>\n",
       "    .dataframe tbody tr th:only-of-type {\n",
       "        vertical-align: middle;\n",
       "    }\n",
       "\n",
       "    .dataframe tbody tr th {\n",
       "        vertical-align: top;\n",
       "    }\n",
       "\n",
       "    .dataframe thead th {\n",
       "        text-align: right;\n",
       "    }\n",
       "</style>\n",
       "<table border=\"1\" class=\"dataframe\">\n",
       "  <thead>\n",
       "    <tr style=\"text-align: right;\">\n",
       "      <th></th>\n",
       "      <th>ones</th>\n",
       "      <th>population</th>\n",
       "    </tr>\n",
       "  </thead>\n",
       "  <tbody>\n",
       "    <tr>\n",
       "      <th>0</th>\n",
       "      <td>1</td>\n",
       "      <td>6.1101</td>\n",
       "    </tr>\n",
       "    <tr>\n",
       "      <th>1</th>\n",
       "      <td>1</td>\n",
       "      <td>5.5277</td>\n",
       "    </tr>\n",
       "    <tr>\n",
       "      <th>2</th>\n",
       "      <td>1</td>\n",
       "      <td>8.5186</td>\n",
       "    </tr>\n",
       "    <tr>\n",
       "      <th>3</th>\n",
       "      <td>1</td>\n",
       "      <td>7.0032</td>\n",
       "    </tr>\n",
       "    <tr>\n",
       "      <th>4</th>\n",
       "      <td>1</td>\n",
       "      <td>5.8598</td>\n",
       "    </tr>\n",
       "  </tbody>\n",
       "</table>\n",
       "</div>"
      ],
      "text/plain": [
       "   ones  population\n",
       "0     1      6.1101\n",
       "1     1      5.5277\n",
       "2     1      8.5186\n",
       "3     1      7.0032\n",
       "4     1      5.8598"
      ]
     },
     "execution_count": 110,
     "metadata": {},
     "output_type": "execute_result"
    }
   ],
   "source": [
    "#设置训练集\n",
    "X = data.loc[:, ['ones', 'population']]\n",
    "Y = data.loc[:, ['profit']]\n",
    "X.head()"
   ]
  },
  {
   "cell_type": "markdown",
   "id": "2e1aa2e5-deb1-4d5d-86e0-8d3322436366",
   "metadata": {},
   "source": [
    "`.loc()`基于标签的索引，`.iloc`基于整数位置的索引。"
   ]
  },
  {
   "cell_type": "code",
   "execution_count": 106,
   "id": "8bbbb862-9541-4616-838b-41989114a4c5",
   "metadata": {},
   "outputs": [
    {
     "data": {
      "text/html": [
       "<div>\n",
       "<style scoped>\n",
       "    .dataframe tbody tr th:only-of-type {\n",
       "        vertical-align: middle;\n",
       "    }\n",
       "\n",
       "    .dataframe tbody tr th {\n",
       "        vertical-align: top;\n",
       "    }\n",
       "\n",
       "    .dataframe thead th {\n",
       "        text-align: right;\n",
       "    }\n",
       "</style>\n",
       "<table border=\"1\" class=\"dataframe\">\n",
       "  <thead>\n",
       "    <tr style=\"text-align: right;\">\n",
       "      <th></th>\n",
       "      <th>profit</th>\n",
       "    </tr>\n",
       "  </thead>\n",
       "  <tbody>\n",
       "    <tr>\n",
       "      <th>0</th>\n",
       "      <td>17.5920</td>\n",
       "    </tr>\n",
       "    <tr>\n",
       "      <th>1</th>\n",
       "      <td>9.1302</td>\n",
       "    </tr>\n",
       "    <tr>\n",
       "      <th>2</th>\n",
       "      <td>13.6620</td>\n",
       "    </tr>\n",
       "    <tr>\n",
       "      <th>3</th>\n",
       "      <td>11.8540</td>\n",
       "    </tr>\n",
       "    <tr>\n",
       "      <th>4</th>\n",
       "      <td>6.8233</td>\n",
       "    </tr>\n",
       "  </tbody>\n",
       "</table>\n",
       "</div>"
      ],
      "text/plain": [
       "    profit\n",
       "0  17.5920\n",
       "1   9.1302\n",
       "2  13.6620\n",
       "3  11.8540\n",
       "4   6.8233"
      ]
     },
     "execution_count": 106,
     "metadata": {},
     "output_type": "execute_result"
    }
   ],
   "source": [
    "Y.head()"
   ]
  },
  {
   "cell_type": "markdown",
   "id": "68582785-ac07-4963-97ef-aeb067c12b3c",
   "metadata": {},
   "source": [
    "`.head()`是Pandas DataFrame查看前几行数据的特有方法。"
   ]
  },
  {
   "cell_type": "code",
   "execution_count": 119,
   "id": "de5e4f88-39ac-4f40-98f6-4671c2b1186c",
   "metadata": {},
   "outputs": [
    {
     "data": {
      "text/plain": [
       "((97, 2), (1, 2), (97, 1))"
      ]
     },
     "execution_count": 119,
     "metadata": {},
     "output_type": "execute_result"
    }
   ],
   "source": [
    "#损失函数需要矩阵用于计算，将DataFrame转换成矩阵\n",
    "X = np.matrix(X.values)\n",
    "Y = np.matrix(Y.values)\n",
    "X.shape, theta.shape, Y.shape"
   ]
  },
  {
   "cell_type": "markdown",
   "id": "69c8aae3-bf97-484e-bd6c-f9e737fac0e1",
   "metadata": {},
   "source": [
    "用pytorch的库将DataFrame转换成矩阵的时候，记得要转换的是数据的值。\n",
    "用numpy库转换同理，np.matrix(X.values)"
   ]
  },
  {
   "cell_type": "code",
   "execution_count": 120,
   "id": "fcb7e2ab-d4e3-4ca7-8e12-1fe9af929364",
   "metadata": {},
   "outputs": [
    {
     "data": {
      "text/plain": [
       "32.072733877455676"
      ]
     },
     "execution_count": 120,
     "metadata": {},
     "output_type": "execute_result"
    }
   ],
   "source": [
    "loss_function(X, Y, theta)"
   ]
  },
  {
   "cell_type": "markdown",
   "id": "e9807c3e-d4b7-4b6b-a35b-ad8f97da3aab",
   "metadata": {},
   "source": [
    "2.2.4 梯度下降函数\n",
    "请记住损失函数$J(\\theta)$是通过向量$\\theta$参数化的，而不是X和y。假设你已经完美实现了梯度下降法和loss function，你的$J(\\theta)$不应该出现增加的值，而是最终收敛于一个稳定值的算法。\n",
    "最终$\\theta$用来预测35000和70000人的利润。请注意用下面的式子来预测而不是显式求和或循环来计算预测。\n",
    "```\n",
    "predict1 = [1, 3.5] * theta;\r",
    " predict2 = [1, 7] * thet;\n",
    "```;"
   ]
  },
  {
   "cell_type": "code",
   "execution_count": null,
   "id": "08b4b4e5-c08e-438c-8158-09e8066a34ec",
   "metadata": {},
   "outputs": [],
   "source": []
  }
 ],
 "metadata": {
  "kernelspec": {
   "display_name": "Python [conda env:.conda-pytorch] *",
   "language": "python",
   "name": "conda-env-.conda-pytorch-py"
  },
  "language_info": {
   "codemirror_mode": {
    "name": "ipython",
    "version": 3
   },
   "file_extension": ".py",
   "mimetype": "text/x-python",
   "name": "python",
   "nbconvert_exporter": "python",
   "pygments_lexer": "ipython3",
   "version": "3.9.18"
  }
 },
 "nbformat": 4,
 "nbformat_minor": 5
}
