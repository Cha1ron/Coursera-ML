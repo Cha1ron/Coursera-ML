{
 "cells": [
  {
   "cell_type": "code",
   "execution_count": 28,
   "id": "9db677f0-3ed6-4f86-a143-38ca52281cfb",
   "metadata": {},
   "outputs": [],
   "source": [
    "import numpy as np\n",
    "import pandas as pd\n",
    "import matplotlib.pyplot as plt"
   ]
  },
  {
   "cell_type": "markdown",
   "id": "a9992249-5367-4dbb-8bab-6ea5982af7b3",
   "metadata": {},
   "source": [
    "这一部分将使用多变量线性回归预测房屋价格。\n",
    "文件ex1data2.txt包含俄勒冈州波特兰市的房价训练集。第一列是房子的大小(单位是平方英尺)，第二列是卧室的数量，第三列是房子的价格。"
   ]
  },
  {
   "cell_type": "markdown",
   "id": "c738de83-cc5b-4b2f-9c62-283fb71b1906",
   "metadata": {},
   "source": [
    "3.1 特征标准化\n",
    "观察数据集的数值会发现房屋大小大约是卧室数量的1000倍。当特征值差别比较大的时候，进行特征缩放可以使梯度下降收敛得更快。\n",
    "因此你需要做的是：1.从数据集中减去每个特征的平均值。2.在减去平均值后，再用特征值除以它们各自的“标准差”"
   ]
  },
  {
   "cell_type": "code",
   "execution_count": 29,
   "id": "bcfc9f3f-f3b0-49cb-bd08-8e7a3cb3a4a4",
   "metadata": {},
   "outputs": [
    {
     "data": {
      "text/html": [
       "<div>\n",
       "<style scoped>\n",
       "    .dataframe tbody tr th:only-of-type {\n",
       "        vertical-align: middle;\n",
       "    }\n",
       "\n",
       "    .dataframe tbody tr th {\n",
       "        vertical-align: top;\n",
       "    }\n",
       "\n",
       "    .dataframe thead th {\n",
       "        text-align: right;\n",
       "    }\n",
       "</style>\n",
       "<table border=\"1\" class=\"dataframe\">\n",
       "  <thead>\n",
       "    <tr style=\"text-align: right;\">\n",
       "      <th></th>\n",
       "      <th>Size</th>\n",
       "      <th>Bedrooms</th>\n",
       "      <th>Price</th>\n",
       "    </tr>\n",
       "  </thead>\n",
       "  <tbody>\n",
       "    <tr>\n",
       "      <th>0</th>\n",
       "      <td>2104</td>\n",
       "      <td>3</td>\n",
       "      <td>399900</td>\n",
       "    </tr>\n",
       "    <tr>\n",
       "      <th>1</th>\n",
       "      <td>1600</td>\n",
       "      <td>3</td>\n",
       "      <td>329900</td>\n",
       "    </tr>\n",
       "    <tr>\n",
       "      <th>2</th>\n",
       "      <td>2400</td>\n",
       "      <td>3</td>\n",
       "      <td>369000</td>\n",
       "    </tr>\n",
       "    <tr>\n",
       "      <th>3</th>\n",
       "      <td>1416</td>\n",
       "      <td>2</td>\n",
       "      <td>232000</td>\n",
       "    </tr>\n",
       "    <tr>\n",
       "      <th>4</th>\n",
       "      <td>3000</td>\n",
       "      <td>4</td>\n",
       "      <td>539900</td>\n",
       "    </tr>\n",
       "  </tbody>\n",
       "</table>\n",
       "</div>"
      ],
      "text/plain": [
       "   Size  Bedrooms   Price\n",
       "0  2104         3  399900\n",
       "1  1600         3  329900\n",
       "2  2400         3  369000\n",
       "3  1416         2  232000\n",
       "4  3000         4  539900"
      ]
     },
     "execution_count": 29,
     "metadata": {},
     "output_type": "execute_result"
    }
   ],
   "source": [
    "data = pd.read_csv('data/ex1data2.txt', names= ['Size', 'Bedrooms', 'Price'])\n",
    "data.head()"
   ]
  },
  {
   "cell_type": "code",
   "execution_count": 30,
   "id": "fa70438a-7f36-4576-bb28-c5bc82130505",
   "metadata": {},
   "outputs": [],
   "source": [
    "def standarize(X):\n",
    "    return (X - np.mean(X, axis=0)) / np.std(X, axis=0)"
   ]
  },
  {
   "cell_type": "markdown",
   "id": "4dd32f92-afe9-4b50-a3ea-e90477f09de1",
   "metadata": {},
   "source": [
    "3.2 梯度下降 \n",
    "确保你的代码支持任意数量的特征，并且支持向量化。"
   ]
  },
  {
   "cell_type": "code",
   "execution_count": 31,
   "id": "2b70d9c0-9078-480a-8f80-07fbda3e1c08",
   "metadata": {},
   "outputs": [
    {
     "data": {
      "text/plain": [
       "array([[ 1.        ,  0.13141542, -0.22609337],\n",
       "       [ 1.        , -0.5096407 , -0.22609337],\n",
       "       [ 1.        ,  0.5079087 , -0.22609337],\n",
       "       [ 1.        , -0.74367706, -1.5543919 ],\n",
       "       [ 1.        ,  1.27107075,  1.10220517],\n",
       "       [ 1.        , -0.01994505,  1.10220517],\n",
       "       [ 1.        , -0.59358852, -0.22609337],\n",
       "       [ 1.        , -0.72968575, -0.22609337],\n",
       "       [ 1.        , -0.78946678, -0.22609337],\n",
       "       [ 1.        , -0.64446599, -0.22609337]])"
      ]
     },
     "execution_count": 31,
     "metadata": {},
     "output_type": "execute_result"
    }
   ],
   "source": [
    "X = data.loc[:, ['Size', 'Bedrooms']]\n",
    "y = data.loc[:, ['Price']]\n",
    "X = standarize(X)\n",
    "X = np.hstack([np.ones((X.shape[0], 1)), X])\n",
    "X[:10]"
   ]
  },
  {
   "cell_type": "code",
   "execution_count": 20,
   "id": "7b125116-1505-4f3a-a1fe-616c42507980",
   "metadata": {},
   "outputs": [
    {
     "data": {
      "text/html": [
       "<div>\n",
       "<style scoped>\n",
       "    .dataframe tbody tr th:only-of-type {\n",
       "        vertical-align: middle;\n",
       "    }\n",
       "\n",
       "    .dataframe tbody tr th {\n",
       "        vertical-align: top;\n",
       "    }\n",
       "\n",
       "    .dataframe thead th {\n",
       "        text-align: right;\n",
       "    }\n",
       "</style>\n",
       "<table border=\"1\" class=\"dataframe\">\n",
       "  <thead>\n",
       "    <tr style=\"text-align: right;\">\n",
       "      <th></th>\n",
       "      <th>Price</th>\n",
       "    </tr>\n",
       "  </thead>\n",
       "  <tbody>\n",
       "    <tr>\n",
       "      <th>0</th>\n",
       "      <td>399900</td>\n",
       "    </tr>\n",
       "    <tr>\n",
       "      <th>1</th>\n",
       "      <td>329900</td>\n",
       "    </tr>\n",
       "    <tr>\n",
       "      <th>2</th>\n",
       "      <td>369000</td>\n",
       "    </tr>\n",
       "    <tr>\n",
       "      <th>3</th>\n",
       "      <td>232000</td>\n",
       "    </tr>\n",
       "    <tr>\n",
       "      <th>4</th>\n",
       "      <td>539900</td>\n",
       "    </tr>\n",
       "  </tbody>\n",
       "</table>\n",
       "</div>"
      ],
      "text/plain": [
       "    Price\n",
       "0  399900\n",
       "1  329900\n",
       "2  369000\n",
       "3  232000\n",
       "4  539900"
      ]
     },
     "execution_count": 20,
     "metadata": {},
     "output_type": "execute_result"
    }
   ],
   "source": [
    "y.head()"
   ]
  },
  {
   "cell_type": "code",
   "execution_count": 21,
   "id": "4d0eec67-e047-41bd-a35e-0cd4d5e7d6f4",
   "metadata": {},
   "outputs": [],
   "source": [
    "def loss_function(X, y, theta):\n",
    "    inner = np.power(((X * theta.T) - y), 2)\n",
    "    return np.sum(inner) / (2 * len(X))"
   ]
  },
  {
   "cell_type": "code",
   "execution_count": 22,
   "id": "a8adf10e-68d0-46be-b2eb-f5da21da0dcc",
   "metadata": {},
   "outputs": [],
   "source": [
    "def gradientDescent(X, y, theta, learning_rate, iterations):\n",
    "    temp = np.matrix(np.zeros(theta.shape))\n",
    "    history_cost = np.zeros(iterations)\n",
    "    parameters = int(theta.ravel().shape[1])  #参数个数\n",
    "    \n",
    "    for i in range(iterations):\n",
    "        error = (X * theta.T) - y\n",
    "        for j in range(parameters):    \n",
    "            term = np.multiply(error, X[:, j])\n",
    "            temp[0, j] = theta[0, j] - (learning_rate / len(X)) * np.sum(term)\n",
    "        theta = temp\n",
    "        history_cost[i] = loss_function(X, y, theta)\n",
    "    return theta, history_cost"
   ]
  },
  {
   "cell_type": "code",
   "execution_count": 23,
   "id": "2aebd2e9-4f0b-46e9-9724-19c84fb7d162",
   "metadata": {},
   "outputs": [],
   "source": [
    "learning_rate = 0.01\n",
    "iterations = 1500"
   ]
  },
  {
   "cell_type": "code",
   "execution_count": 24,
   "id": "c66f8d7a-44eb-476c-a325-8ad5b2b93576",
   "metadata": {},
   "outputs": [
    {
     "data": {
      "text/plain": [
       "2043280050.6028292"
      ]
     },
     "execution_count": 24,
     "metadata": {},
     "output_type": "execute_result"
    }
   ],
   "source": [
    "X = np.matrix(X)\n",
    "y = np.matrix(y.values)\n",
    "theta = np.matrix(np.array([0,0,0]))\n",
    "g, history_cost = gradientDescent(X, y, theta, learning_rate, iterations)\n",
    "loss_function(X, y , g)"
   ]
  },
  {
   "cell_type": "code",
   "execution_count": 25,
   "id": "68da87ae-23df-40f3-8d9f-67c1d3fd5e3f",
   "metadata": {},
   "outputs": [
    {
     "data": {
      "text/plain": [
       "matrix([[1.80909542e+08]])"
      ]
     },
     "execution_count": 25,
     "metadata": {},
     "output_type": "execute_result"
    }
   ],
   "source": [
    "predict = [1, 1650, 3] * g.T\n",
    "predict"
   ]
  },
  {
   "cell_type": "code",
   "execution_count": 26,
   "id": "8d6ada99-57cf-40e6-9004-dcd215a37a65",
   "metadata": {},
   "outputs": [
    {
     "data": {
      "text/plain": [
       "matrix([[340412.65957447, 109447.79646964,  -6578.35485416]])"
      ]
     },
     "execution_count": 26,
     "metadata": {},
     "output_type": "execute_result"
    }
   ],
   "source": [
    "g"
   ]
  },
  {
   "cell_type": "code",
   "execution_count": 27,
   "id": "52cb0a90-3e12-4eb0-84e6-ee1560dc7529",
   "metadata": {},
   "outputs": [
    {
     "data": {
      "image/png": "[encoded data removed]",
      "text/plain": [
       "<Figure size 1200x800 with 1 Axes>"
      ]
     },
     "metadata": {},
     "output_type": "display_data"
    }
   ],
   "source": [
    "fig, ax = plt.subplots(figsize= (12,8))\n",
    "ax.plot(np.arange(iterations), history_cost, 'r')\n",
    "ax.set_xlabel('Iterations')\n",
    "ax.set_ylabel('Cost')\n",
    "ax.set_title('Error vs. Training Epoch')\n",
    "plt.show()"
   ]
  },
  {
   "cell_type": "markdown",
   "id": "ab6011ff-546e-4d68-af4a-6a017dcdb721",
   "metadata": {},
   "source": [
    "使用正规方程$\\theta ={{\\left( {X^T}X \\right)}^{-1}}{X^{T}}y$进行模型学习，不需要特征缩放，但仍需要在X矩阵中添加值为1的列作为截距项。"
   ]
  },
  {
   "cell_type": "code",
   "execution_count": 38,
   "id": "4a4080c7-eb00-42a0-a01d-ccd6894f2581",
   "metadata": {},
   "outputs": [],
   "source": [
    "import numpy as np\n",
    "import pandas as pd\n",
    "import matplotlib.pyplot as plt"
   ]
  },
  {
   "cell_type": "code",
   "execution_count": 39,
   "id": "6ca788bf-acf5-4a4e-a037-67e7f10c9948",
   "metadata": {},
   "outputs": [],
   "source": [
    "data = pd.read_csv('data/ex1data2.txt', names = ['Size', 'Bedrooms', 'Price'])\n",
    "data.insert(0, 'ones', 1)\n",
    "X = data.loc[:, ['ones', 'Size', 'Bedrooms']]\n",
    "y = data.loc[:, ['Price']]\n",
    "X = np.matrix(X.values)\n",
    "y = np.matrix(y.values)"
   ]
  },
  {
   "cell_type": "code",
   "execution_count": 40,
   "id": "1b300340-7c5e-4a64-806a-e35de741dbc1",
   "metadata": {},
   "outputs": [],
   "source": [
    "def normalEqn(X, y):\n",
    "    theta = np.linalg.inv(X.T@X)@X.T@y\n",
    "    return theta"
   ]
  },
  {
   "cell_type": "markdown",
   "id": "8aa70fdc-f557-45de-a7ae-d7ad2ba66377",
   "metadata": {},
   "source": [
    "`np.linalg.inv()`对矩阵进行求逆"
   ]
  },
  {
   "cell_type": "code",
   "execution_count": 41,
   "id": "763f7438-acf1-48c0-b348-7b60e1d5b445",
   "metadata": {},
   "outputs": [
    {
     "data": {
      "text/plain": [
       "matrix([[89597.9095428 ],\n",
       "        [  139.21067402],\n",
       "        [-8738.01911233]])"
      ]
     },
     "execution_count": 41,
     "metadata": {},
     "output_type": "execute_result"
    }
   ],
   "source": [
    "theta2 = normalEqn(X, y)\n",
    "theta2"
   ]
  },
  {
   "cell_type": "code",
   "execution_count": 42,
   "id": "906cb447-bb06-41a6-92bd-542c124f3c85",
   "metadata": {},
   "outputs": [
    {
     "data": {
      "text/plain": [
       "matrix([[293081.46433489]])"
      ]
     },
     "execution_count": 42,
     "metadata": {},
     "output_type": "execute_result"
    }
   ],
   "source": [
    "predict = [1, 1650, 3] * theta2\n",
    "predict"
   ]
  },
  {
   "cell_type": "code",
   "execution_count": null,
   "id": "ef5b3aec-65da-489f-8a13-d4b77b2f071a",
   "metadata": {},
   "outputs": [],
   "source": []
  }
 ],
 "metadata": {
  "kernelspec": {
   "display_name": "Python [conda env:.conda-pytorch] *",
   "language": "python",
   "name": "conda-env-.conda-pytorch-py"
  },
  "language_info": {
   "codemirror_mode": {
    "name": "ipython",
    "version": 3
   },
   "file_extension": ".py",
   "mimetype": "text/x-python",
   "name": "python",
   "nbconvert_exporter": "python",
   "pygments_lexer": "ipython3",
   "version": "3.9.18"
  }
 },
 "nbformat": 4,
 "nbformat_minor": 5
}
